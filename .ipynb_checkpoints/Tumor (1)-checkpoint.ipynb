{
 "cells": [
  {
   "cell_type": "code",
   "execution_count": null,
   "metadata": {
    "id": "9StPg7Ky1WdT"
   },
   "outputs": [],
   "source": [
    "#list of useful libraries required for the project\n",
    "import os\n",
    "import tqdm\n",
    "import matplotlib.pyplot as plt\n",
    "import pandas as pd\n",
    "import numpy as np\n",
    "import cv2\n",
    "from glob import glob\n",
    "import seaborn as sns\n",
    "import random\n",
    "from keras.preprocessing import image\n",
    "import tensorflow as tf\n",
    "from keras.models import Sequential\n",
    "from keras.layers import Dense,Dropout,Flatten,Conv2D,MaxPool2D,GlobalAvgPool2D,GlobalMaxPooling2D\n",
    "from keras.optimizers import RMSprop\n",
    "from keras.preprocessing.image import ImageDataGenerator\n",
    "from keras.optimizers import Adam\n",
    "from sklearn.model_selection import train_test_split"
   ]
  },
  {
   "cell_type": "code",
   "execution_count": null,
   "metadata": {
    "id": "YbWSpD0j18kk"
   },
   "outputs": [],
   "source": [
    "data=r'/content/Tumor_Dataset'"
   ]
  },
  {
   "cell_type": "code",
   "execution_count": null,
   "metadata": {
    "id": "D7jBWsSy2Fsi"
   },
   "outputs": [],
   "source": [
    "images=[]\n",
    "import os\n",
    "for dirname,_,filenames in os.walk(data):\n",
    "  for filename in filenames:\n",
    "    file_name, file_extension = os.path.splitext(filename)\n",
    "    if file_extension == '.db':\n",
    "      continue\n",
    "    else:\n",
    "      img=os.path.join(dirname,filename)\n",
    "      images.append(img)"
   ]
  },
  {
   "cell_type": "code",
   "execution_count": null,
   "metadata": {
    "colab": {
     "base_uri": "https://localhost:8080/"
    },
    "id": "RGn_fyRM2LSx",
    "outputId": "0c41cf38-53c8-46b9-d7f6-56486de5ef11"
   },
   "outputs": [],
   "source": [
    "images[:20]"
   ]
  },
  {
   "cell_type": "code",
   "execution_count": null,
   "metadata": {
    "colab": {
     "base_uri": "https://localhost:8080/"
    },
    "id": "syVBRimp2OOT",
    "outputId": "4a85ab1a-b331-4101-99d9-b04a0b317f6d"
   },
   "outputs": [],
   "source": [
    "len(images)"
   ]
  },
  {
   "cell_type": "code",
   "execution_count": null,
   "metadata": {
    "id": "E_qIElhh2ZJR"
   },
   "outputs": [],
   "source": [
    "class_values = []\n",
    "for i in images:\n",
    "    j = i.split('/')\n",
    "    class_values.append(j[-2])"
   ]
  },
  {
   "cell_type": "code",
   "execution_count": null,
   "metadata": {
    "colab": {
     "base_uri": "https://localhost:8080/"
    },
    "id": "kslQSJmC2c0a",
    "outputId": "ef5cd645-96bf-49d7-c82f-4953e2fdad8f"
   },
   "outputs": [],
   "source": [
    "class_values[:10]"
   ]
  },
  {
   "cell_type": "code",
   "execution_count": null,
   "metadata": {
    "colab": {
     "base_uri": "https://localhost:8080/"
    },
    "id": "-kVCHkt02fVj",
    "outputId": "724a65b3-92c4-435b-8101-120572d97b53"
   },
   "outputs": [],
   "source": [
    "len(class_values)"
   ]
  },
  {
   "cell_type": "code",
   "execution_count": null,
   "metadata": {
    "id": "Ee56dNvD2lrk"
   },
   "outputs": [],
   "source": [
    "temp = list(zip(images,class_values))\n",
    "random.shuffle(temp)\n",
    "images, class_values = zip(*temp)\n",
    "data = pd.DataFrame(list(zip(images, class_values)), columns=['image_path', 'Class_label'])"
   ]
  },
  {
   "cell_type": "code",
   "execution_count": null,
   "metadata": {
    "colab": {
     "base_uri": "https://localhost:8080/",
     "height": 423
    },
    "id": "hvf9sdEX2qRS",
    "outputId": "7c8e0b09-9e90-422c-de53-86154bdb9892"
   },
   "outputs": [],
   "source": [
    "data"
   ]
  },
  {
   "cell_type": "code",
   "execution_count": null,
   "metadata": {
    "colab": {
     "base_uri": "https://localhost:8080/"
    },
    "id": "k3PWdMgj2uBa",
    "outputId": "579fd68f-c5bd-4705-844e-a86ef7d92bd8"
   },
   "outputs": [],
   "source": [
    "data.shape"
   ]
  },
  {
   "cell_type": "code",
   "execution_count": null,
   "metadata": {
    "colab": {
     "base_uri": "https://localhost:8080/"
    },
    "id": "R_KbLq-r25HQ",
    "outputId": "990054ce-7b6a-4ca4-855a-f8fec2659bfd"
   },
   "outputs": [],
   "source": [
    "data.Class_label.value_counts()"
   ]
  },
  {
   "cell_type": "code",
   "execution_count": null,
   "metadata": {
    "colab": {
     "base_uri": "https://localhost:8080/",
     "height": 450
    },
    "id": "pGFCWPQP27g_",
    "outputId": "a578dcb5-feb5-4ad2-e794-7e6b5b0d80f9"
   },
   "outputs": [],
   "source": [
    "sns.countplot(x = data.Class_label, data = data)\n",
    "plt.show()"
   ]
  },
  {
   "cell_type": "code",
   "execution_count": null,
   "metadata": {
    "colab": {
     "base_uri": "https://localhost:8080/"
    },
    "id": "1NNAFZNi3CO3",
    "outputId": "0af786a6-9d57-4182-9382-fad4fa7f50ca"
   },
   "outputs": [],
   "source": [
    "from sklearn.utils import resample\n",
    "# Separate majority and minority classes\n",
    "df_c0 = data[data['Class_label']== 'pituitary_tumor']\n",
    "df_c1 = data[data['Class_label']== 'glioma_tumor']\n",
    "df_c2 = data[data['Class_label']== 'meningioma_tumor']\n",
    "df_c3 = data[data['Class_label']== 'no_tumor']\n",
    "\n",
    "# Downsample majority class\n",
    "df_c0_upsampled = resample(df_c0, replace=True,  n_samples = 1000,random_state=23)\n",
    "df_c1_upsampled = resample(df_c1, replace=True,  n_samples = 1000,random_state=23)\n",
    "df_c2_upsampled = resample(df_c2, replace=True,  n_samples = 1000,random_state=23)\n",
    "df_c3_upsampled = resample(df_c3, replace=True,  n_samples = 1000,random_state=23)\n",
    "\n",
    "# Combine minority class with downsampled majority class\n",
    "df_upsampled = pd.concat([df_c0_upsampled,df_c1_upsampled,df_c2_upsampled,df_c3_upsampled])\n",
    "\n",
    "# Display new class counts\n",
    "df_upsampled['Class_label'].value_counts()"
   ]
  },
  {
   "cell_type": "code",
   "execution_count": null,
   "metadata": {
    "colab": {
     "base_uri": "https://localhost:8080/",
     "height": 740
    },
    "id": "-A87udIp3LuE",
    "outputId": "596c2cfd-7807-4b9f-ba0e-fc9c1bed9c8e"
   },
   "outputs": [],
   "source": [
    "sns.set(style=\"whitegrid\")\n",
    "plt.figure(figsize=(10, 5))\n",
    "ax = sns.countplot(x=\"Class_label\", data=df_upsampled, palette=sns.color_palette(\"cubehelix\", 4))\n",
    "plt.xticks(rotation=90)\n",
    "plt.title(\"Class Label Counts\", {\"fontname\":\"fantasy\", \"fontweight\":\"bold\", \"fontsize\":\"medium\"})\n",
    "plt.ylabel(\"count\", {\"fontname\": \"serif\", \"fontweight\":\"bold\"})\n",
    "plt.xlabel(\"Class_label\", {\"fontname\": \"serif\", \"fontweight\":\"bold\"})"
   ]
  },
  {
   "cell_type": "code",
   "execution_count": null,
   "metadata": {
    "colab": {
     "base_uri": "https://localhost:8080/",
     "height": 206
    },
    "id": "ghB53SSZ3P4N",
    "outputId": "4649b584-43f5-43b7-9a38-129e25374560"
   },
   "outputs": [],
   "source": [
    "df = df_upsampled.sample(frac=1)\n",
    "df.head()"
   ]
  },
  {
   "cell_type": "code",
   "execution_count": null,
   "metadata": {
    "colab": {
     "base_uri": "https://localhost:8080/"
    },
    "id": "dNYTE6zI3UoD",
    "outputId": "2bf810a6-eec1-478f-e301-bdcfb2da08ee"
   },
   "outputs": [],
   "source": [
    "df['Class_label'].value_counts()"
   ]
  },
  {
   "cell_type": "code",
   "execution_count": null,
   "metadata": {
    "id": "_V0OMTR83YJ5"
   },
   "outputs": [],
   "source": [
    "import os\n",
    "from PIL import Image"
   ]
  },
  {
   "cell_type": "code",
   "execution_count": null,
   "metadata": {
    "id": "TTfPelpb3bGH"
   },
   "outputs": [],
   "source": [
    "def resize_images(img):\n",
    "  file = Image.open(img)\n",
    "  img = file.convert('RGB')\n",
    "  img_bgr= img.resize((224, 224))\n",
    "  img_bgr = np.array(img_bgr)\n",
    "  return img_bgr"
   ]
  },
  {
   "cell_type": "code",
   "execution_count": null,
   "metadata": {
    "id": "GZzGks3c3fG3"
   },
   "outputs": [],
   "source": [
    "#save resized images into images.\n",
    "images = [resize_images(img) for img in df['image_path']]"
   ]
  },
  {
   "cell_type": "code",
   "execution_count": null,
   "metadata": {
    "colab": {
     "base_uri": "https://localhost:8080/"
    },
    "id": "yyG60y713jAm",
    "outputId": "7df5a4a1-7ea6-454d-e076-66de7700ec2c"
   },
   "outputs": [],
   "source": [
    "images"
   ]
  },
  {
   "cell_type": "code",
   "execution_count": null,
   "metadata": {
    "id": "FHmE6Ndq3pjE"
   },
   "outputs": [],
   "source": [
    "# print number of classes in our dataset\n",
    "num_classes = len(np.unique(data['Class_label']))"
   ]
  },
  {
   "cell_type": "code",
   "execution_count": null,
   "metadata": {
    "colab": {
     "base_uri": "https://localhost:8080/"
    },
    "id": "hGxeLnQq3vm9",
    "outputId": "24da293d-022e-4788-e92b-c9745ef96814"
   },
   "outputs": [],
   "source": [
    "num_classes"
   ]
  },
  {
   "cell_type": "code",
   "execution_count": null,
   "metadata": {
    "id": "FYttIhDi3yNp"
   },
   "outputs": [],
   "source": [
    "# save the class into class_names\n",
    "class_names = list(data['Class_label'])"
   ]
  },
  {
   "cell_type": "code",
   "execution_count": null,
   "metadata": {
    "colab": {
     "base_uri": "https://localhost:8080/"
    },
    "id": "-AjTSIUv31Ph",
    "outputId": "b6c6b04b-e148-4d62-88e1-80a1ff57799d"
   },
   "outputs": [],
   "source": [
    "# Print the shape of the image\n",
    "images[0].shape"
   ]
  },
  {
   "cell_type": "code",
   "execution_count": null,
   "metadata": {
    "colab": {
     "base_uri": "https://localhost:8080/",
     "height": 474
    },
    "id": "s239mzCq36f5",
    "outputId": "bb9611ab-477a-4ef9-88b1-30cc89e75fe1"
   },
   "outputs": [],
   "source": [
    "#See the image with class label\n",
    "plt.imshow(images[33])\n",
    "plt.title(class_names[33])"
   ]
  },
  {
   "cell_type": "code",
   "execution_count": null,
   "metadata": {
    "colab": {
     "base_uri": "https://localhost:8080/",
     "height": 474
    },
    "id": "BG0FwgJF39TE",
    "outputId": "08f9dc77-eac1-4c1b-ee74-f7a2d2a9044a"
   },
   "outputs": [],
   "source": [
    "#See the image with class label\n",
    "plt.imshow(images[70])\n",
    "plt.title(class_names[70])"
   ]
  },
  {
   "cell_type": "code",
   "execution_count": null,
   "metadata": {
    "colab": {
     "base_uri": "https://localhost:8080/",
     "height": 474
    },
    "id": "LxOcV9k94Ayr",
    "outputId": "5e67be6a-284d-4ff3-d4fd-9fa13faf8efc"
   },
   "outputs": [],
   "source": [
    "#See the image with class label\n",
    "plt.imshow(images[5])\n",
    "plt.title(class_names[515])"
   ]
  },
  {
   "cell_type": "code",
   "execution_count": null,
   "metadata": {
    "id": "diIPBAvP4EoW"
   },
   "outputs": [],
   "source": [
    "# Convert the images into array\n",
    "images =  np.array(images)"
   ]
  },
  {
   "cell_type": "code",
   "execution_count": null,
   "metadata": {
    "colab": {
     "base_uri": "https://localhost:8080/"
    },
    "id": "dO7AfwZ24JnM",
    "outputId": "447c2813-e7c2-4a34-8502-9b1c8c882a58"
   },
   "outputs": [],
   "source": [
    "# Shape of the images\n",
    "images.shape"
   ]
  },
  {
   "cell_type": "code",
   "execution_count": null,
   "metadata": {
    "id": "kOYO4CVf4MNk"
   },
   "outputs": [],
   "source": [
    "from sklearn.preprocessing import LabelBinarizer\n",
    "enc = LabelBinarizer()\n",
    "y = enc.fit_transform(df['Class_label'])"
   ]
  },
  {
   "cell_type": "code",
   "execution_count": null,
   "metadata": {
    "colab": {
     "base_uri": "https://localhost:8080/"
    },
    "id": "DL6MfYos4Omt",
    "outputId": "d5714321-8a0d-413b-a6bd-b5e151c43e6c"
   },
   "outputs": [],
   "source": [
    "y[:10]"
   ]
  },
  {
   "cell_type": "code",
   "execution_count": null,
   "metadata": {
    "colab": {
     "base_uri": "https://localhost:8080/"
    },
    "id": "BANFOw2k4Q4y",
    "outputId": "f0261f53-902c-4f56-d7c6-d3674fb98fb1"
   },
   "outputs": [],
   "source": [
    "y.shape"
   ]
  },
  {
   "cell_type": "code",
   "execution_count": null,
   "metadata": {
    "colab": {
     "base_uri": "https://localhost:8080/"
    },
    "id": "6TkpehXe4bLN",
    "outputId": "bd64d0e9-5c22-497c-89ee-0a6bb60e906c"
   },
   "outputs": [],
   "source": [
    "enc.classes_"
   ]
  },
  {
   "cell_type": "code",
   "execution_count": null,
   "metadata": {
    "id": "0fwMycXM4gbD"
   },
   "outputs": [],
   "source": [
    "from sklearn.model_selection import train_test_split\n",
    "X_train, X_test, y_train, y_test = train_test_split(images, y, test_size=0.3,stratify = y,random_state=42)"
   ]
  },
  {
   "cell_type": "code",
   "execution_count": null,
   "metadata": {
    "colab": {
     "base_uri": "https://localhost:8080/"
    },
    "id": "vCT9X0ls4luZ",
    "outputId": "c915b43f-3433-490b-b1f6-2feb79bfe33c"
   },
   "outputs": [],
   "source": [
    "X_train.shape"
   ]
  },
  {
   "cell_type": "code",
   "execution_count": null,
   "metadata": {
    "colab": {
     "base_uri": "https://localhost:8080/"
    },
    "id": "459NPqS_4tDC",
    "outputId": "a428c2f9-5faa-4b90-c967-b62fab766a40"
   },
   "outputs": [],
   "source": [
    "X_test.shape"
   ]
  },
  {
   "cell_type": "code",
   "execution_count": null,
   "metadata": {
    "id": "rws4Ejag4xIC"
   },
   "outputs": [],
   "source": [
    "# import the vgg16 model\n",
    "from keras.applications.vgg19 import VGG19"
   ]
  },
  {
   "cell_type": "code",
   "execution_count": null,
   "metadata": {
    "colab": {
     "base_uri": "https://localhost:8080/"
    },
    "id": "y3FtAC425If0",
    "outputId": "fa927c78-eb02-4db6-b136-ee4a3b6ce75d"
   },
   "outputs": [],
   "source": [
    "vgg1=VGG19(weights='imagenet',include_top=False,input_shape=(224,224,3))"
   ]
  },
  {
   "cell_type": "code",
   "execution_count": null,
   "metadata": {
    "id": "rJjlKcJT5taK"
   },
   "outputs": [],
   "source": [
    "vgg1.trainable=False"
   ]
  },
  {
   "cell_type": "code",
   "execution_count": null,
   "metadata": {
    "colab": {
     "base_uri": "https://localhost:8080/"
    },
    "id": "RWCsL_fu55hu",
    "outputId": "860e4f16-9638-4009-ff80-70203bd37341"
   },
   "outputs": [],
   "source": [
    "# Set the vgg16 model\n",
    "model_2=Sequential()\n",
    "model_2.add(vgg1)\n",
    "model_2.add(Flatten())\n",
    "model_2.add(Dense(128, activation='relu'))\n",
    "model_2.add(Dropout(0.2))\n",
    "model_2.add(Dense(4, activation='softmax'))\n",
    "model_2.summary()"
   ]
  },
  {
   "cell_type": "code",
   "execution_count": null,
   "metadata": {
    "id": "ltLiPINj6HGE"
   },
   "outputs": [],
   "source": [
    "#Compile the model\n",
    "model_2.compile(optimizer = 'adam', loss = \"binary_crossentropy\", metrics = [\"accuracy\"])"
   ]
  },
  {
   "cell_type": "code",
   "execution_count": null,
   "metadata": {
    "colab": {
     "base_uri": "https://localhost:8080/"
    },
    "id": "F9EYqabX6NTa",
    "outputId": "bd80dad4-bb5c-43db-85c7-d85f9c814f0c"
   },
   "outputs": [],
   "source": [
    "#Fit the data or train the model\n",
    "History_2 = model_2.fit(X_train, y_train, epochs = 5, validation_data = (X_test,y_test),batch_size = 128)"
   ]
  },
  {
   "cell_type": "code",
   "execution_count": null,
   "metadata": {
    "colab": {
     "base_uri": "https://localhost:8080/",
     "height": 434
    },
    "id": "_X62MaL76Th9",
    "outputId": "adbaafee-6066-4cd8-f1ea-a86bc409738b"
   },
   "outputs": [],
   "source": [
    "# plot the accuracy plot\n",
    "plt.plot(History_2.history['accuracy'], 'r')\n",
    "plt.plot(History_2.history['val_accuracy'], 'b')\n",
    "plt.legend({'Train Accuracy': 'r', 'Test Accuracy':'b'})\n",
    "plt.show()"
   ]
  },
  {
   "cell_type": "code",
   "execution_count": null,
   "metadata": {
    "colab": {
     "base_uri": "https://localhost:8080/"
    },
    "id": "n4RkVWud46Yb",
    "outputId": "a9492336-b378-48bc-d010-04859e7f98d9"
   },
   "outputs": [],
   "source": [
    "# print the test accuracy\n",
    "score_2 = model_2.evaluate(X_test, y_test, verbose=0)\n",
    "print('Test accuracy:', score_2[1])"
   ]
  },
  {
   "cell_type": "code",
   "execution_count": null,
   "metadata": {
    "colab": {
     "base_uri": "https://localhost:8080/",
     "height": 586
    },
    "id": "GcJpPNAz5D-x",
    "outputId": "4acb7009-b1c1-4127-c44d-2b70a10f3c9b"
   },
   "outputs": [],
   "source": [
    "#plot confusion matrix\n",
    "from sklearn.metrics import confusion_matrix\n",
    "class_names = enc.classes_\n",
    "df_heatmap = pd.DataFrame(confusion_matrix(np.argmax((model_2.predict(X_test)),axis = 1),np.argmax(y_test,axis=1)),columns = class_names, index = class_names)\n",
    "heatmap = sns.heatmap(df_heatmap, annot=True, fmt=\"d\")"
   ]
  },
  {
   "cell_type": "code",
   "execution_count": null,
   "metadata": {
    "colab": {
     "base_uri": "https://localhost:8080/"
    },
    "id": "8bCYbCbZ9KzO",
    "outputId": "c6ecf147-0c82-462c-9178-b5f354e4893e"
   },
   "outputs": [],
   "source": [
    "tf.keras.models.save_model(model_2,\"vgg.h5\")"
   ]
  },
  {
   "cell_type": "code",
   "execution_count": null,
   "metadata": {
    "colab": {
     "base_uri": "https://localhost:8080/",
     "height": 508
    },
    "id": "2gHz90xOBN2q",
    "outputId": "812b0682-f9b0-492b-ba8c-048b5cbf0e57"
   },
   "outputs": [],
   "source": [
    "i = 4\n",
    "pred = np.argmax(model_2.predict(np.array([X_test[i]]))[0])\n",
    "act = np.argmax(y_test[i])\n",
    "print(\"Predicted class: {}\".format(enc.classes_[pred]))\n",
    "print(\"Actual class: {}\".format(enc.classes_[act]))\n",
    "\n",
    "plt.imshow(X_test[i])"
   ]
  },
  {
   "cell_type": "code",
   "execution_count": null,
   "metadata": {
    "colab": {
     "base_uri": "https://localhost:8080/",
     "height": 508
    },
    "id": "sXDIxaDcBftm",
    "outputId": "3cbdfea4-14bf-4ec0-b31b-6bfb2afa18d6"
   },
   "outputs": [],
   "source": [
    "i = 404\n",
    "pred = np.argmax(model_2.predict(np.array([X_test[i]]))[0])\n",
    "act = np.argmax(y_test[i])\n",
    "print(\"Predicted class: {}\".format(enc.classes_[pred]))\n",
    "print(\"Actual class: {}\".format(enc.classes_[act]))\n",
    "\n",
    "plt.imshow(X_test[i])"
   ]
  },
  {
   "cell_type": "code",
   "execution_count": null,
   "metadata": {
    "id": "KrdSOQSJBoOl"
   },
   "outputs": [],
   "source": [
    "from tensorflow.keras.applications import MobileNet"
   ]
  },
  {
   "cell_type": "code",
   "execution_count": null,
   "metadata": {
    "colab": {
     "base_uri": "https://localhost:8080/"
    },
    "id": "_W1BAzRYBujL",
    "outputId": "25280f0c-8f52-4bb7-f3d6-06e6cf8ae80a"
   },
   "outputs": [],
   "source": [
    "mob = MobileNet(weights='imagenet',include_top=False,input_shape=(224,224,3))"
   ]
  },
  {
   "cell_type": "code",
   "execution_count": null,
   "metadata": {
    "id": "3M3B4OaSBxZi"
   },
   "outputs": [],
   "source": [
    "mob.trainable=False"
   ]
  },
  {
   "cell_type": "code",
   "execution_count": null,
   "metadata": {
    "id": "kludkCuPBz5r"
   },
   "outputs": [],
   "source": [
    "model_mob=Sequential()\n",
    "model_mob.add(mob)\n",
    "model_mob.add(Flatten())\n",
    "model_mob.add(Dense(128, activation='relu'))\n",
    "model_mob.add(Dropout(0.2))\n",
    "model_mob.add(Dense(4, activation='softmax'))"
   ]
  },
  {
   "cell_type": "code",
   "execution_count": null,
   "metadata": {
    "colab": {
     "base_uri": "https://localhost:8080/"
    },
    "id": "3F4ZuR4-B3y4",
    "outputId": "6e752ece-7724-45cb-bef8-236dba9aff4b"
   },
   "outputs": [],
   "source": [
    "#Compile the model\n",
    "opt = Adam(lr=0.001)\n",
    "\n",
    "optimizer = tf.keras.optimizers.legacy.RMSprop(lr=0.001, rho=0.9, epsilon=1e-08, decay=0.0)\n",
    "loss = tf.keras.losses.CategoricalCrossentropy(label_smoothing=0.025)\n",
    "\n",
    "model_mob.compile(optimizer = optimizer, loss = loss, metrics = [\"accuracy\"])"
   ]
  },
  {
   "cell_type": "code",
   "execution_count": null,
   "metadata": {
    "colab": {
     "base_uri": "https://localhost:8080/"
    },
    "id": "Ra8Zkp5IB8bs",
    "outputId": "e4bceafc-a3a0-41e9-8495-fb80d486c8c4"
   },
   "outputs": [],
   "source": [
    "#Fit the data or train the model\n",
    "History_mob = model_mob.fit(X_train, y_train, epochs = 5, validation_data = (X_test,y_test),batch_size = 120)"
   ]
  },
  {
   "cell_type": "code",
   "execution_count": null,
   "metadata": {
    "colab": {
     "base_uri": "https://localhost:8080/",
     "height": 434
    },
    "id": "HfOiS1ytCG6h",
    "outputId": "ff19aec7-013b-434f-f858-2c133cf1d0a7"
   },
   "outputs": [],
   "source": [
    "# plot the accuracy plot\n",
    "plt.plot(History_mob.history['accuracy'], 'r')\n",
    "plt.plot(History_mob.history['val_accuracy'], 'b')\n",
    "plt.legend({'Train Accuracy': 'r', 'Test Accuracy':'b'})\n",
    "plt.show()"
   ]
  },
  {
   "cell_type": "code",
   "execution_count": null,
   "metadata": {
    "colab": {
     "base_uri": "https://localhost:8080/",
     "height": 586
    },
    "id": "gKBla3MBH12E",
    "outputId": "72045ea2-9953-4c37-991a-c3bc5550e10f"
   },
   "outputs": [],
   "source": [
    "#plot confusion matrix\n",
    "from sklearn.metrics import confusion_matrix\n",
    "class_names = enc.classes_\n",
    "df_heatmap = pd.DataFrame(confusion_matrix(np.argmax((model_mob.predict(X_test)),axis = 1),np.argmax(y_test,axis=1)),columns = class_names, index = class_names)\n",
    "heatmap = sns.heatmap(df_heatmap, annot=True, fmt=\"d\")"
   ]
  },
  {
   "cell_type": "code",
   "execution_count": null,
   "metadata": {
    "colab": {
     "base_uri": "https://localhost:8080/"
    },
    "id": "Wlx42SatIK1w",
    "outputId": "e31fecde-7151-4a0b-95d6-b4d18f57081b"
   },
   "outputs": [],
   "source": [
    "tf.keras.models.save_model(model_mob,\"mob.h5\")"
   ]
  },
  {
   "cell_type": "code",
   "execution_count": 6,
   "metadata": {
    "colab": {
     "base_uri": "https://localhost:8080/",
     "height": 508
    },
    "id": "4WjQKmDHIfHK",
    "outputId": "296311e0-4463-4937-b6ee-e0f060852df8"
   },
   "outputs": [
    {
     "ename": "NameError",
     "evalue": "name 'model_mob' is not defined",
     "output_type": "error",
     "traceback": [
      "\u001b[0;31m---------------------------------------------------------------------------\u001b[0m",
      "\u001b[0;31mNameError\u001b[0m                                 Traceback (most recent call last)",
      "Cell \u001b[0;32mIn[6], line 2\u001b[0m\n\u001b[1;32m      1\u001b[0m i \u001b[38;5;241m=\u001b[39m \u001b[38;5;241m4\u001b[39m\n\u001b[0;32m----> 2\u001b[0m pred \u001b[38;5;241m=\u001b[39m np\u001b[38;5;241m.\u001b[39margmax(model_mob\u001b[38;5;241m.\u001b[39mpredict(np\u001b[38;5;241m.\u001b[39marray([X_test[i]]))[\u001b[38;5;241m0\u001b[39m])\n\u001b[1;32m      3\u001b[0m act \u001b[38;5;241m=\u001b[39m np\u001b[38;5;241m.\u001b[39margmax(y_test[i])\n\u001b[1;32m      4\u001b[0m \u001b[38;5;28mprint\u001b[39m(\u001b[38;5;124m\"\u001b[39m\u001b[38;5;124mPredicted class: \u001b[39m\u001b[38;5;132;01m{}\u001b[39;00m\u001b[38;5;124m\"\u001b[39m\u001b[38;5;241m.\u001b[39mformat(enc\u001b[38;5;241m.\u001b[39mclasses_[pred]))\n",
      "\u001b[0;31mNameError\u001b[0m: name 'model_mob' is not defined"
     ]
    }
   ],
   "source": [
    "i = 4\n",
    "pred = np.argmax(model_mob.predict(np.array([X_test[i]]))[0])\n",
    "act = np.argmax(y_test[i])\n",
    "print(\"Predicted class: {}\".format(enc.classes_[pred]))\n",
    "print(\"Actual class: {}\".format(enc.classes_[act]))\n",
    "\n",
    "plt.imshow(X_test[i])"
   ]
  },
  {
   "cell_type": "code",
   "execution_count": null,
   "metadata": {
    "id": "BLYVxkmgIpnT"
   },
   "outputs": [],
   "source": []
  },
  {
   "cell_type": "code",
   "execution_count": null,
   "metadata": {},
   "outputs": [],
   "source": []
  }
 ],
 "metadata": {
  "colab": {
   "provenance": []
  },
  "kernelspec": {
   "display_name": "Python 3 (ipykernel)",
   "language": "python",
   "name": "python3"
  },
  "language_info": {
   "codemirror_mode": {
    "name": "ipython",
    "version": 3
   },
   "file_extension": ".py",
   "mimetype": "text/x-python",
   "name": "python",
   "nbconvert_exporter": "python",
   "pygments_lexer": "ipython3",
   "version": "3.11.7"
  }
 },
 "nbformat": 4,
 "nbformat_minor": 4
}
